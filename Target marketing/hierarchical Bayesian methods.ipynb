{
 "cells": [
  {
   "cell_type": "markdown",
   "metadata": {},
   "source": [
    "- the term _consumer heterogeneity_ refers to individual differences across users\n",
    "- describing users in terms of their positions along underlying attribue parameters is more informative than describing them as being members of segments\n",
    "- Bayesian methods in marketing, Rossi, Allenby, and McColloch (2005): R packages Rossi (2014), Sermas (2014)"
   ]
  },
  {
   "cell_type": "code",
   "execution_count": null,
   "metadata": {
    "collapsed": true
   },
   "outputs": [],
   "source": []
  }
 ],
 "metadata": {
  "kernelspec": {
   "display_name": "Python [conda env:special_topics]",
   "language": "python",
   "name": "conda-env-special_topics-py"
  },
  "language_info": {
   "codemirror_mode": {
    "name": "ipython",
    "version": 3
   },
   "file_extension": ".py",
   "mimetype": "text/x-python",
   "name": "python",
   "nbconvert_exporter": "python",
   "pygments_lexer": "ipython3",
   "version": "3.6.3"
  }
 },
 "nbformat": 4,
 "nbformat_minor": 2
}
